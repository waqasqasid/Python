{
 "cells": [
  {
   "cell_type": "markdown",
   "id": "0afbcee1",
   "metadata": {},
   "source": [
    "# Basic Data Structure in Python\n",
    "- Tuple\n",
    "- List\n",
    "- Dictionaries\n",
    "- Set\n",
    "\n",
    "# 1-Tuple\n",
    "- ordered collection of elements\n",
    "- enclosed in () braces\n",
    "- Different kind of element can be stored\n",
    "- once elements are stored you can not change then (unmutable)"
   ]
  },
  {
   "cell_type": "code",
   "execution_count": 149,
   "id": "f92c16ce",
   "metadata": {},
   "outputs": [
    {
     "data": {
      "text/plain": [
       "('pakistan', 'canada', 1)"
      ]
     },
     "execution_count": 149,
     "metadata": {},
     "output_type": "execute_result"
    }
   ],
   "source": [
    "# last element is Exclusive \n",
    "tup1 = ('pakistan','canada',1,2,3)\n",
    "tup1[0:3]"
   ]
  },
  {
   "cell_type": "code",
   "execution_count": 150,
   "id": "2ec68fc7",
   "metadata": {},
   "outputs": [
    {
     "data": {
      "text/plain": [
       "5"
      ]
     },
     "execution_count": 150,
     "metadata": {},
     "output_type": "execute_result"
    }
   ],
   "source": [
    "# count the element\n",
    "len(tup1)"
   ]
  },
  {
   "cell_type": "code",
   "execution_count": 151,
   "id": "4275071c",
   "metadata": {},
   "outputs": [
    {
     "data": {
      "text/plain": [
       "('Ali', 'shah', 'zohaib')"
      ]
     },
     "execution_count": 151,
     "metadata": {},
     "output_type": "execute_result"
    }
   ],
   "source": [
    "tup2 = ('Ali','shah','zohaib')\n",
    "tup2"
   ]
  },
  {
   "cell_type": "code",
   "execution_count": 152,
   "id": "9d6b5460",
   "metadata": {},
   "outputs": [
    {
     "data": {
      "text/plain": [
       "('pakistan',\n",
       " 'canada',\n",
       " 1,\n",
       " 2,\n",
       " 3,\n",
       " 'pakistan',\n",
       " 'canada',\n",
       " 1,\n",
       " 2,\n",
       " 3,\n",
       " 'Ali',\n",
       " 'shah',\n",
       " 'zohaib')"
      ]
     },
     "execution_count": 152,
     "metadata": {},
     "output_type": "execute_result"
    }
   ],
   "source": [
    "(tup1 * 2 + tup2)"
   ]
  },
  {
   "cell_type": "code",
   "execution_count": 153,
   "id": "0c34fd35",
   "metadata": {},
   "outputs": [
    {
     "name": "stdout",
     "output_type": "stream",
     "text": [
      "20\n",
      "50\n"
     ]
    }
   ],
   "source": [
    "tup3= (20,30,40,50)\n",
    "print(min(tup3))\n",
    "print(max(tup3))"
   ]
  },
  {
   "cell_type": "code",
   "execution_count": 154,
   "id": "d96eaad7",
   "metadata": {},
   "outputs": [
    {
     "data": {
      "text/plain": [
       "(20, 30, 40, 50, 20, 30, 40, 50)"
      ]
     },
     "execution_count": 154,
     "metadata": {},
     "output_type": "execute_result"
    }
   ],
   "source": [
    "tup3 * 2"
   ]
  },
  {
   "cell_type": "code",
   "execution_count": 155,
   "id": "85aa416f",
   "metadata": {},
   "outputs": [
    {
     "data": {
      "text/plain": [
       "('Ali', 'shah', 'zohaib', 20, 30, 40, 50)"
      ]
     },
     "execution_count": 155,
     "metadata": {},
     "output_type": "execute_result"
    }
   ],
   "source": [
    "# concatinate\n",
    "tup2 + tup3"
   ]
  },
  {
   "cell_type": "markdown",
   "id": "b67d3c94",
   "metadata": {},
   "source": [
    "# 2-List\n",
    "- ordered collection of elements\n",
    "- enclosed in Square [] braces\n",
    "- Mutable you can change the values"
   ]
  },
  {
   "cell_type": "code",
   "execution_count": 156,
   "id": "f1c0149a",
   "metadata": {},
   "outputs": [
    {
     "name": "stdout",
     "output_type": "stream",
     "text": [
      "[10, 20, 30, 40]\n",
      "[50, 60, 70, 80]\n"
     ]
    }
   ],
   "source": [
    "list1 = [10,20,30,40]\n",
    "list2 = [50,60,70,80]\n",
    "print(list1)\n",
    "print(list2)"
   ]
  },
  {
   "cell_type": "code",
   "execution_count": 157,
   "id": "9d17e256",
   "metadata": {},
   "outputs": [
    {
     "data": {
      "text/plain": [
       "[10, 20]"
      ]
     },
     "execution_count": 157,
     "metadata": {},
     "output_type": "execute_result"
    }
   ],
   "source": [
    "list1[:2]"
   ]
  },
  {
   "cell_type": "code",
   "execution_count": 158,
   "id": "07e4b963",
   "metadata": {},
   "outputs": [
    {
     "data": {
      "text/plain": [
       "4"
      ]
     },
     "execution_count": 158,
     "metadata": {},
     "output_type": "execute_result"
    }
   ],
   "source": [
    "len(list1)"
   ]
  },
  {
   "cell_type": "code",
   "execution_count": 159,
   "id": "ede70647",
   "metadata": {},
   "outputs": [
    {
     "data": {
      "text/plain": [
       "list"
      ]
     },
     "execution_count": 159,
     "metadata": {},
     "output_type": "execute_result"
    }
   ],
   "source": [
    "type(list1)"
   ]
  },
  {
   "cell_type": "code",
   "execution_count": 160,
   "id": "23e87467",
   "metadata": {},
   "outputs": [
    {
     "data": {
      "text/plain": [
       "[10, 20, 30, 40, 50, 60, 70, 80]"
      ]
     },
     "execution_count": 160,
     "metadata": {},
     "output_type": "execute_result"
    }
   ],
   "source": [
    "list1 + list2"
   ]
  },
  {
   "cell_type": "code",
   "execution_count": 161,
   "id": "38c6cd08",
   "metadata": {},
   "outputs": [],
   "source": [
    "list1.append('append')"
   ]
  },
  {
   "cell_type": "code",
   "execution_count": 162,
   "id": "7535ed37",
   "metadata": {},
   "outputs": [],
   "source": [
    "list1.remove('append')"
   ]
  },
  {
   "cell_type": "code",
   "execution_count": 163,
   "id": "35475c24",
   "metadata": {},
   "outputs": [
    {
     "data": {
      "text/plain": [
       "[10, 20, 30, 40]"
      ]
     },
     "execution_count": 163,
     "metadata": {},
     "output_type": "execute_result"
    }
   ],
   "source": [
    "list1"
   ]
  },
  {
   "cell_type": "code",
   "execution_count": 164,
   "id": "86fc05a9",
   "metadata": {},
   "outputs": [
    {
     "data": {
      "text/plain": [
       "[10, 20, 30, 40]"
      ]
     },
     "execution_count": 164,
     "metadata": {},
     "output_type": "execute_result"
    }
   ],
   "source": [
    "list1"
   ]
  },
  {
   "cell_type": "code",
   "execution_count": 165,
   "id": "f47d7836",
   "metadata": {},
   "outputs": [],
   "source": [
    "list1.sort()"
   ]
  },
  {
   "cell_type": "markdown",
   "id": "e55a2dfd",
   "metadata": {},
   "source": [
    "# 3-Dictionaries\n",
    "- Un ordered collection of elements\n",
    "- Enclosed in curly {} braces \n",
    "- Kay & values\n",
    "- Mutable change the values"
   ]
  },
  {
   "cell_type": "code",
   "execution_count": 166,
   "id": "5fc3b3db",
   "metadata": {},
   "outputs": [
    {
     "name": "stdout",
     "output_type": "stream",
     "text": [
      "{'abdullah': 20, 'sami': 30, 'shahziab': 50, 'waqas': 40}\n"
     ]
    }
   ],
   "source": [
    "D1 = {'abdullah':20,'sami':30,'shahziab':50,'waqas':40}\n",
    "print(D1)"
   ]
  },
  {
   "cell_type": "code",
   "execution_count": 170,
   "id": "8e354396",
   "metadata": {},
   "outputs": [
    {
     "data": {
      "text/plain": [
       "12"
      ]
     },
     "execution_count": 170,
     "metadata": {},
     "output_type": "execute_result"
    }
   ],
   "source": [
    "# food and their prices\n",
    "d2 = {'samosa':12,'pakora':40,'string':70,'burger':200}\n",
    "d2['samosa']"
   ]
  },
  {
   "cell_type": "code",
   "execution_count": 171,
   "id": "4e4961b4",
   "metadata": {},
   "outputs": [
    {
     "data": {
      "text/plain": [
       "dict"
      ]
     },
     "execution_count": 171,
     "metadata": {},
     "output_type": "execute_result"
    }
   ],
   "source": [
    "type(d2)"
   ]
  },
  {
   "cell_type": "code",
   "execution_count": 172,
   "id": "464efec1",
   "metadata": {},
   "outputs": [
    {
     "data": {
      "text/plain": [
       "4"
      ]
     },
     "execution_count": 172,
     "metadata": {},
     "output_type": "execute_result"
    }
   ],
   "source": [
    "len(d2)"
   ]
  },
  {
   "cell_type": "code",
   "execution_count": 173,
   "id": "c6bca6e3",
   "metadata": {},
   "outputs": [
    {
     "data": {
      "text/plain": [
       "dict_keys(['samosa', 'pakora', 'string', 'burger'])"
      ]
     },
     "execution_count": 173,
     "metadata": {},
     "output_type": "execute_result"
    }
   ],
   "source": [
    "d2.keys()"
   ]
  },
  {
   "cell_type": "code",
   "execution_count": 174,
   "id": "5fbf582c",
   "metadata": {},
   "outputs": [
    {
     "data": {
      "text/plain": [
       "dict_values([12, 40, 70, 200])"
      ]
     },
     "execution_count": 174,
     "metadata": {},
     "output_type": "execute_result"
    }
   ],
   "source": [
    "d2.values()"
   ]
  },
  {
   "cell_type": "code",
   "execution_count": 176,
   "id": "d4e2ffec",
   "metadata": {},
   "outputs": [],
   "source": [
    "# adding new elements\n",
    "d2['samosa']= 15"
   ]
  },
  {
   "cell_type": "code",
   "execution_count": 177,
   "id": "c4ce2b5a",
   "metadata": {},
   "outputs": [
    {
     "data": {
      "text/plain": [
       "15"
      ]
     },
     "execution_count": 177,
     "metadata": {},
     "output_type": "execute_result"
    }
   ],
   "source": [
    "d2['samosa']"
   ]
  },
  {
   "cell_type": "code",
   "execution_count": 179,
   "id": "ff37c709",
   "metadata": {},
   "outputs": [],
   "source": [
    "# concatinate in dictionaries\n",
    "d2.update(D1)"
   ]
  },
  {
   "cell_type": "code",
   "execution_count": 181,
   "id": "100d4fa8",
   "metadata": {},
   "outputs": [
    {
     "data": {
      "text/plain": [
       "{'samosa': 15,\n",
       " 'pakora': 40,\n",
       " 'string': 70,\n",
       " 'burger': 200,\n",
       " 'abdullah': 20,\n",
       " 'sami': 30,\n",
       " 'shahziab': 50,\n",
       " 'waqas': 40}"
      ]
     },
     "execution_count": 181,
     "metadata": {},
     "output_type": "execute_result"
    }
   ],
   "source": [
    "d2"
   ]
  },
  {
   "cell_type": "markdown",
   "id": "26788d45",
   "metadata": {},
   "source": [
    "# 4-Set\n",
    "- Un ordered and Un indixed\n",
    "- Curly { } braces are used\n",
    "- No duplicates are allowed"
   ]
  },
  {
   "cell_type": "code",
   "execution_count": 182,
   "id": "053547a0",
   "metadata": {},
   "outputs": [],
   "source": [
    "set1 = {1.2,1.4,1.6,'salman'}"
   ]
  },
  {
   "cell_type": "code",
   "execution_count": 183,
   "id": "aebf373e",
   "metadata": {},
   "outputs": [
    {
     "data": {
      "text/plain": [
       "{1.2, 1.4, 1.6, 'salman'}"
      ]
     },
     "execution_count": 183,
     "metadata": {},
     "output_type": "execute_result"
    }
   ],
   "source": [
    "set1"
   ]
  },
  {
   "cell_type": "code",
   "execution_count": 184,
   "id": "5fe618a3",
   "metadata": {},
   "outputs": [],
   "source": [
    "set1.add('salman')"
   ]
  },
  {
   "cell_type": "code",
   "execution_count": 185,
   "id": "979c01d7",
   "metadata": {},
   "outputs": [
    {
     "data": {
      "text/plain": [
       "{1.2, 1.4, 1.6, 'salman'}"
      ]
     },
     "execution_count": 185,
     "metadata": {},
     "output_type": "execute_result"
    }
   ],
   "source": [
    "set1"
   ]
  },
  {
   "cell_type": "code",
   "execution_count": 186,
   "id": "bfa4deef",
   "metadata": {},
   "outputs": [],
   "source": [
    "set1.remove('salman')"
   ]
  },
  {
   "cell_type": "code",
   "execution_count": 187,
   "id": "14609379",
   "metadata": {},
   "outputs": [
    {
     "data": {
      "text/plain": [
       "{1.2, 1.4, 1.6}"
      ]
     },
     "execution_count": 187,
     "metadata": {},
     "output_type": "execute_result"
    }
   ],
   "source": [
    "set1"
   ]
  },
  {
   "cell_type": "code",
   "execution_count": null,
   "id": "b2fab40d",
   "metadata": {},
   "outputs": [],
   "source": []
  }
 ],
 "metadata": {
  "kernelspec": {
   "display_name": "Python 3 (ipykernel)",
   "language": "python",
   "name": "python3"
  },
  "language_info": {
   "codemirror_mode": {
    "name": "ipython",
    "version": 3
   },
   "file_extension": ".py",
   "mimetype": "text/x-python",
   "name": "python",
   "nbconvert_exporter": "python",
   "pygments_lexer": "ipython3",
   "version": "3.9.7"
  }
 },
 "nbformat": 4,
 "nbformat_minor": 5
}

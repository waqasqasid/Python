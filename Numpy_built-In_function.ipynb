{
 "cells": [
  {
   "cell_type": "markdown",
   "id": "cbe2f84f",
   "metadata": {},
   "source": [
    "# Bult-In Functions in Numpy\n",
    "\n",
    "- Full\n",
    "- Ones\n",
    "- Zeros\n",
    "- Eye\n",
    "- Random.Random\n",
    "- Empty"
   ]
  },
  {
   "cell_type": "code",
   "execution_count": 7,
   "id": "86b8b8df",
   "metadata": {},
   "outputs": [
    {
     "name": "stdout",
     "output_type": "stream",
     "text": [
      "[[2 2 2 2 2]\n",
      " [2 2 2 2 2]\n",
      " [2 2 2 2 2]\n",
      " [2 2 2 2 2]]\n",
      "for decimel value\n",
      "[[5 5 5]\n",
      " [5 5 5]\n",
      " [5 5 5]]\n"
     ]
    }
   ],
   "source": [
    "# 1-Full\n",
    "\n",
    "full_num =np.full((4,5),2)\n",
    "print(full_num)\n",
    "# For decimel value\n",
    "print(np.full((3,3),5))"
   ]
  }
 ],
 "metadata": {
  "interpreter": {
   "hash": "96a5b2c8615b6af4330dccc0a175f9e1be44a5aebebe076415aefa8805d772c0"
  },
  "kernelspec": {
   "display_name": "Python 3.9.7 ('base')",
   "language": "python",
   "name": "python3"
  },
  "language_info": {
   "codemirror_mode": {
    "name": "ipython",
    "version": 3
   },
   "file_extension": ".py",
   "mimetype": "text/x-python",
   "name": "python",
   "nbconvert_exporter": "python",
   "pygments_lexer": "ipython3",
   "version": "3.9.7"
  }
 },
 "nbformat": 4,
 "nbformat_minor": 5
}

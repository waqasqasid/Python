{
 "cells": [
  {
   "cell_type": "markdown",
   "id": "cbe2f84f",
   "metadata": {},
   "source": [
    "# Bult-In Functions in Numpy\n",
    "\n",
    "- Full\n",
    "- Ones\n",
    "- Zeros\n",
    "- Eye\n",
    "- Random.Random\n",
    "- Empty"
   ]
  },
  {
   "cell_type": "code",
   "execution_count": 14,
   "id": "10660652",
   "metadata": {},
   "outputs": [
    {
     "name": "stdout",
     "output_type": "stream",
     "text": [
      "[[2 2 2 2 2]\n",
      " [2 2 2 2 2]\n",
      " [2 2 2 2 2]\n",
      " [2 2 2 2 2]]\n",
      "[[5 5 5]\n",
      " [5 5 5]\n",
      " [5 5 5]]\n"
     ]
    }
   ],
   "source": [
    "# 1-Full\n",
    "import numpy as np\n",
    "full_num =np.full((4,5),2)\n",
    "print(full_num)\n",
    "# For decimel value\n",
    "print(np.full((3,3),5))"
   ]
  },
  {
   "cell_type": "code",
   "execution_count": 15,
   "id": "541a247e",
   "metadata": {},
   "outputs": [
    {
     "name": "stdout",
     "output_type": "stream",
     "text": [
      "[[1. 1. 1.]\n",
      " [1. 1. 1.]\n",
      " [1. 1. 1.]]\n"
     ]
    }
   ],
   "source": [
    "# 2-Ones\n",
    "\n",
    "ones_mat = np.ones((3,3))\n",
    "print(ones_mat)"
   ]
  },
  {
   "cell_type": "code",
   "execution_count": 16,
   "id": "1405a439",
   "metadata": {},
   "outputs": [
    {
     "name": "stdout",
     "output_type": "stream",
     "text": [
      "[[0. 0. 0.]\n",
      " [0. 0. 0.]\n",
      " [0. 0. 0.]]\n"
     ]
    }
   ],
   "source": [
    "# 3-Zeros\n",
    "\n",
    "zeros_mat = np.zeros((3,3))\n",
    "print(zeros_mat)"
   ]
  },
  {
   "cell_type": "code",
   "execution_count": 17,
   "id": "5780e887",
   "metadata": {},
   "outputs": [
    {
     "name": "stdout",
     "output_type": "stream",
     "text": [
      "[[1. 0. 0.]\n",
      " [0. 1. 0.]\n",
      " [0. 0. 1.]]\n"
     ]
    }
   ],
   "source": [
    "# 4-Eye\n",
    "\n",
    "eye_mat = np.eye(3,3)\n",
    "print(eye_mat)"
   ]
  },
  {
   "cell_type": "code",
   "execution_count": 18,
   "id": "02b7b795",
   "metadata": {},
   "outputs": [
    {
     "name": "stdout",
     "output_type": "stream",
     "text": [
      "[[0.99986779 0.95887358 0.73853384 0.93518468]\n",
      " [0.78862954 0.97205269 0.33168277 0.00398445]\n",
      " [0.99606888 0.57449928 0.91108939 0.99014439]\n",
      " [0.64781932 0.09547442 0.68785825 0.61261791]]\n"
     ]
    }
   ],
   "source": [
    "# 5-Random.Ramdom\n",
    "\n",
    "random_mat = np.random.random((4,4))\n",
    "print(random_mat)"
   ]
  },
  {
   "cell_type": "code",
   "execution_count": 19,
   "id": "436b18f4",
   "metadata": {},
   "outputs": [
    {
     "name": "stdout",
     "output_type": "stream",
     "text": [
      "[[1.19494240e-311 9.54898106e-313]\n",
      " [2.56761491e-312 1.78019082e-306]]\n"
     ]
    }
   ],
   "source": [
    "# 6-Empty\n",
    "\n",
    "Empty_mat = np.empty((2,2))\n",
    "print(Empty_mat)"
   ]
  }
 ],
 "metadata": {
  "interpreter": {
   "hash": "96a5b2c8615b6af4330dccc0a175f9e1be44a5aebebe076415aefa8805d772c0"
  },
  "kernelspec": {
   "display_name": "Python 3.9.7 ('base')",
   "language": "python",
   "name": "python3"
  },
  "language_info": {
   "codemirror_mode": {
    "name": "ipython",
    "version": 3
   },
   "file_extension": ".py",
   "mimetype": "text/x-python",
   "name": "python",
   "nbconvert_exporter": "python",
   "pygments_lexer": "ipython3",
   "version": "3.9.7"
  }
 },
 "nbformat": 4,
 "nbformat_minor": 5
}

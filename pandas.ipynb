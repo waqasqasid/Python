{
 "cells": [
  {
   "cell_type": "markdown",
   "metadata": {},
   "source": [
    "# Pandas (pannal data analysis)\n",
    "it's used for data manipulation and data analysis.\n",
    "- primary data analysis library in python.\n",
    "- pandas library provides a number of data analysis features, which made if one of the most popular data science tool\n",
    "- pandas has two data structure first one is Series and second one is Dataframe\n"
   ]
  },
  {
   "cell_type": "code",
   "execution_count": 14,
   "metadata": {},
   "outputs": [],
   "source": [
    "import pandas as pd"
   ]
  },
  {
   "cell_type": "code",
   "execution_count": 15,
   "metadata": {},
   "outputs": [],
   "source": [
    "p = pd.Series(['waqas','hammad','zohaib'] , [1,2,3])"
   ]
  },
  {
   "cell_type": "code",
   "execution_count": 16,
   "metadata": {},
   "outputs": [
    {
     "data": {
      "text/plain": [
       "1     waqas\n",
       "2    hammad\n",
       "3    zohaib\n",
       "dtype: object"
      ]
     },
     "execution_count": 16,
     "metadata": {},
     "output_type": "execute_result"
    }
   ],
   "source": [
    "p"
   ]
  },
  {
   "cell_type": "code",
   "execution_count": 17,
   "metadata": {},
   "outputs": [],
   "source": [
    "import pandas as pd\n",
    "d = {'first': pd.Series([500,600,700,800], index=['a','b','c','d']),\n",
    "     'second': pd.Series([1600,1700,1800,1900], index=['a','b','c','d'])}"
   ]
  },
  {
   "cell_type": "code",
   "execution_count": 18,
   "metadata": {},
   "outputs": [],
   "source": [
    "df = pd.DataFrame(d)"
   ]
  },
  {
   "cell_type": "code",
   "execution_count": 19,
   "metadata": {},
   "outputs": [
    {
     "data": {
      "text/html": [
       "<div>\n",
       "<style scoped>\n",
       "    .dataframe tbody tr th:only-of-type {\n",
       "        vertical-align: middle;\n",
       "    }\n",
       "\n",
       "    .dataframe tbody tr th {\n",
       "        vertical-align: top;\n",
       "    }\n",
       "\n",
       "    .dataframe thead th {\n",
       "        text-align: right;\n",
       "    }\n",
       "</style>\n",
       "<table border=\"1\" class=\"dataframe\">\n",
       "  <thead>\n",
       "    <tr style=\"text-align: right;\">\n",
       "      <th></th>\n",
       "      <th>first</th>\n",
       "      <th>second</th>\n",
       "    </tr>\n",
       "  </thead>\n",
       "  <tbody>\n",
       "    <tr>\n",
       "      <th>a</th>\n",
       "      <td>500</td>\n",
       "      <td>1600</td>\n",
       "    </tr>\n",
       "    <tr>\n",
       "      <th>b</th>\n",
       "      <td>600</td>\n",
       "      <td>1700</td>\n",
       "    </tr>\n",
       "    <tr>\n",
       "      <th>c</th>\n",
       "      <td>700</td>\n",
       "      <td>1800</td>\n",
       "    </tr>\n",
       "    <tr>\n",
       "      <th>d</th>\n",
       "      <td>800</td>\n",
       "      <td>1900</td>\n",
       "    </tr>\n",
       "  </tbody>\n",
       "</table>\n",
       "</div>"
      ],
      "text/plain": [
       "   first  second\n",
       "a    500    1600\n",
       "b    600    1700\n",
       "c    700    1800\n",
       "d    800    1900"
      ]
     },
     "execution_count": 19,
     "metadata": {},
     "output_type": "execute_result"
    }
   ],
   "source": [
    "df"
   ]
  },
  {
   "cell_type": "code",
   "execution_count": 20,
   "metadata": {},
   "outputs": [
    {
     "data": {
      "text/html": [
       "<div>\n",
       "<style scoped>\n",
       "    .dataframe tbody tr th:only-of-type {\n",
       "        vertical-align: middle;\n",
       "    }\n",
       "\n",
       "    .dataframe tbody tr th {\n",
       "        vertical-align: top;\n",
       "    }\n",
       "\n",
       "    .dataframe thead th {\n",
       "        text-align: right;\n",
       "    }\n",
       "</style>\n",
       "<table border=\"1\" class=\"dataframe\">\n",
       "  <thead>\n",
       "    <tr style=\"text-align: right;\">\n",
       "      <th></th>\n",
       "      <th>First_month</th>\n",
       "      <th>Second_month</th>\n",
       "      <th>Third_month</th>\n",
       "      <th>Forth_month</th>\n",
       "    </tr>\n",
       "  </thead>\n",
       "  <tbody>\n",
       "    <tr>\n",
       "      <th>Waqas</th>\n",
       "      <td>30</td>\n",
       "      <td>34</td>\n",
       "      <td>36</td>\n",
       "      <td>38</td>\n",
       "    </tr>\n",
       "    <tr>\n",
       "      <th>Ribal</th>\n",
       "      <td>28</td>\n",
       "      <td>32</td>\n",
       "      <td>38</td>\n",
       "      <td>12</td>\n",
       "    </tr>\n",
       "    <tr>\n",
       "      <th>Shumaim</th>\n",
       "      <td>50</td>\n",
       "      <td>54</td>\n",
       "      <td>44</td>\n",
       "      <td>24</td>\n",
       "    </tr>\n",
       "    <tr>\n",
       "      <th>Bilal</th>\n",
       "      <td>29</td>\n",
       "      <td>31</td>\n",
       "      <td>21</td>\n",
       "      <td>11</td>\n",
       "    </tr>\n",
       "    <tr>\n",
       "      <th>Hassan</th>\n",
       "      <td>40</td>\n",
       "      <td>43</td>\n",
       "      <td>48</td>\n",
       "      <td>23</td>\n",
       "    </tr>\n",
       "    <tr>\n",
       "      <th>Ahsan</th>\n",
       "      <td>50</td>\n",
       "      <td>56</td>\n",
       "      <td>26</td>\n",
       "      <td>36</td>\n",
       "    </tr>\n",
       "  </tbody>\n",
       "</table>\n",
       "</div>"
      ],
      "text/plain": [
       "         First_month  Second_month  Third_month  Forth_month\n",
       "Waqas             30            34           36           38\n",
       "Ribal             28            32           38           12\n",
       "Shumaim           50            54           44           24\n",
       "Bilal             29            31           21           11\n",
       "Hassan            40            43           48           23\n",
       "Ahsan             50            56           26           36"
      ]
     },
     "execution_count": 20,
     "metadata": {},
     "output_type": "execute_result"
    }
   ],
   "source": [
    "sales_team = {'First_month': pd.Series([30,28,50,29,40,50], index=['Waqas',\"Ribal\",'Shumaim','Bilal','Hassan','Ahsan']),\n",
    "              'Second_month' : pd.Series([34,32,54,31,43,56], index=['Waqas',\"Ribal\",'Shumaim','Bilal','Hassan','Ahsan']),\n",
    "              'Third_month' : pd.Series([36,38,44,21,48,26], index=['Waqas',\"Ribal\",'Shumaim','Bilal','Hassan','Ahsan']),\n",
    "              'Forth_month' : pd.Series([38,12,24,11,23,36], index=['Waqas',\"Ribal\",'Shumaim','Bilal','Hassan','Ahsan'])}\n",
    "pd.DataFrame(sales_team)"
   ]
  },
  {
   "cell_type": "code",
   "execution_count": 21,
   "metadata": {},
   "outputs": [
    {
     "data": {
      "text/plain": [
       "Waqas      36\n",
       "Ribal      38\n",
       "Shumaim    44\n",
       "Bilal      21\n",
       "Hassan     48\n",
       "Ahsan      26\n",
       "dtype: int64"
      ]
     },
     "execution_count": 21,
     "metadata": {},
     "output_type": "execute_result"
    }
   ],
   "source": [
    "sales_team['Third_month']"
   ]
  },
  {
   "cell_type": "code",
   "execution_count": 22,
   "metadata": {},
   "outputs": [
    {
     "data": {
      "text/html": [
       "<div>\n",
       "<style scoped>\n",
       "    .dataframe tbody tr th:only-of-type {\n",
       "        vertical-align: middle;\n",
       "    }\n",
       "\n",
       "    .dataframe tbody tr th {\n",
       "        vertical-align: top;\n",
       "    }\n",
       "\n",
       "    .dataframe thead th {\n",
       "        text-align: right;\n",
       "    }\n",
       "</style>\n",
       "<table border=\"1\" class=\"dataframe\">\n",
       "  <thead>\n",
       "    <tr style=\"text-align: right;\">\n",
       "      <th></th>\n",
       "      <th>First_month</th>\n",
       "      <th>Second_month</th>\n",
       "      <th>Third_month</th>\n",
       "      <th>Forth_month</th>\n",
       "      <th>Fifth_month</th>\n",
       "    </tr>\n",
       "  </thead>\n",
       "  <tbody>\n",
       "    <tr>\n",
       "      <th>Waqas</th>\n",
       "      <td>30</td>\n",
       "      <td>34</td>\n",
       "      <td>36</td>\n",
       "      <td>38</td>\n",
       "      <td>64</td>\n",
       "    </tr>\n",
       "    <tr>\n",
       "      <th>Ribal</th>\n",
       "      <td>28</td>\n",
       "      <td>32</td>\n",
       "      <td>38</td>\n",
       "      <td>12</td>\n",
       "      <td>60</td>\n",
       "    </tr>\n",
       "    <tr>\n",
       "      <th>Shumaim</th>\n",
       "      <td>50</td>\n",
       "      <td>54</td>\n",
       "      <td>44</td>\n",
       "      <td>24</td>\n",
       "      <td>104</td>\n",
       "    </tr>\n",
       "    <tr>\n",
       "      <th>Bilal</th>\n",
       "      <td>29</td>\n",
       "      <td>31</td>\n",
       "      <td>21</td>\n",
       "      <td>11</td>\n",
       "      <td>60</td>\n",
       "    </tr>\n",
       "    <tr>\n",
       "      <th>Hassan</th>\n",
       "      <td>40</td>\n",
       "      <td>43</td>\n",
       "      <td>48</td>\n",
       "      <td>23</td>\n",
       "      <td>83</td>\n",
       "    </tr>\n",
       "    <tr>\n",
       "      <th>Ahsan</th>\n",
       "      <td>50</td>\n",
       "      <td>56</td>\n",
       "      <td>26</td>\n",
       "      <td>36</td>\n",
       "      <td>106</td>\n",
       "    </tr>\n",
       "  </tbody>\n",
       "</table>\n",
       "</div>"
      ],
      "text/plain": [
       "         First_month  Second_month  Third_month  Forth_month  Fifth_month\n",
       "Waqas             30            34           36           38           64\n",
       "Ribal             28            32           38           12           60\n",
       "Shumaim           50            54           44           24          104\n",
       "Bilal             29            31           21           11           60\n",
       "Hassan            40            43           48           23           83\n",
       "Ahsan             50            56           26           36          106"
      ]
     },
     "execution_count": 22,
     "metadata": {},
     "output_type": "execute_result"
    }
   ],
   "source": [
    "# add first column into second column\n",
    "sales_team[\"Fifth_month\"]= sales_team['First_month'] + sales_team['Second_month']\n",
    "pd.DataFrame(sales_team)"
   ]
  },
  {
   "cell_type": "code",
   "execution_count": 25,
   "metadata": {},
   "outputs": [
    {
     "data": {
      "text/html": [
       "<div>\n",
       "<style scoped>\n",
       "    .dataframe tbody tr th:only-of-type {\n",
       "        vertical-align: middle;\n",
       "    }\n",
       "\n",
       "    .dataframe tbody tr th {\n",
       "        vertical-align: top;\n",
       "    }\n",
       "\n",
       "    .dataframe thead th {\n",
       "        text-align: right;\n",
       "    }\n",
       "</style>\n",
       "<table border=\"1\" class=\"dataframe\">\n",
       "  <thead>\n",
       "    <tr style=\"text-align: right;\">\n",
       "      <th></th>\n",
       "      <th>First_month</th>\n",
       "      <th>Second_month</th>\n",
       "      <th>Third_month</th>\n",
       "      <th>Forth_month</th>\n",
       "      <th>Fifth_month</th>\n",
       "      <th>min/max</th>\n",
       "    </tr>\n",
       "  </thead>\n",
       "  <tbody>\n",
       "    <tr>\n",
       "      <th>Waqas</th>\n",
       "      <td>30</td>\n",
       "      <td>34</td>\n",
       "      <td>36</td>\n",
       "      <td>38</td>\n",
       "      <td>64</td>\n",
       "      <td>True</td>\n",
       "    </tr>\n",
       "    <tr>\n",
       "      <th>Ribal</th>\n",
       "      <td>28</td>\n",
       "      <td>32</td>\n",
       "      <td>38</td>\n",
       "      <td>12</td>\n",
       "      <td>60</td>\n",
       "      <td>True</td>\n",
       "    </tr>\n",
       "    <tr>\n",
       "      <th>Shumaim</th>\n",
       "      <td>50</td>\n",
       "      <td>54</td>\n",
       "      <td>44</td>\n",
       "      <td>24</td>\n",
       "      <td>104</td>\n",
       "      <td>False</td>\n",
       "    </tr>\n",
       "    <tr>\n",
       "      <th>Bilal</th>\n",
       "      <td>29</td>\n",
       "      <td>31</td>\n",
       "      <td>21</td>\n",
       "      <td>11</td>\n",
       "      <td>60</td>\n",
       "      <td>True</td>\n",
       "    </tr>\n",
       "    <tr>\n",
       "      <th>Hassan</th>\n",
       "      <td>40</td>\n",
       "      <td>43</td>\n",
       "      <td>48</td>\n",
       "      <td>23</td>\n",
       "      <td>83</td>\n",
       "      <td>True</td>\n",
       "    </tr>\n",
       "    <tr>\n",
       "      <th>Ahsan</th>\n",
       "      <td>50</td>\n",
       "      <td>56</td>\n",
       "      <td>26</td>\n",
       "      <td>36</td>\n",
       "      <td>106</td>\n",
       "      <td>False</td>\n",
       "    </tr>\n",
       "  </tbody>\n",
       "</table>\n",
       "</div>"
      ],
      "text/plain": [
       "         First_month  Second_month  Third_month  Forth_month  Fifth_month  \\\n",
       "Waqas             30            34           36           38           64   \n",
       "Ribal             28            32           38           12           60   \n",
       "Shumaim           50            54           44           24          104   \n",
       "Bilal             29            31           21           11           60   \n",
       "Hassan            40            43           48           23           83   \n",
       "Ahsan             50            56           26           36          106   \n",
       "\n",
       "         min/max  \n",
       "Waqas       True  \n",
       "Ribal       True  \n",
       "Shumaim    False  \n",
       "Bilal       True  \n",
       "Hassan      True  \n",
       "Ahsan      False  "
      ]
     },
     "execution_count": 25,
     "metadata": {},
     "output_type": "execute_result"
    }
   ],
   "source": [
    "sales_team['min/max'] = sales_team['Fifth_month'] < 100\n",
    "pd.DataFrame(sales_team)"
   ]
  }
 ],
 "metadata": {
  "interpreter": {
   "hash": "4e44c95577c5c07fd4c004a76bf84c62558203d4d2c850629ef860a89bb137ad"
  },
  "kernelspec": {
   "display_name": "Python 3.10.3 64-bit (windows store)",
   "language": "python",
   "name": "python3"
  },
  "language_info": {
   "codemirror_mode": {
    "name": "ipython",
    "version": 3
   },
   "file_extension": ".py",
   "mimetype": "text/x-python",
   "name": "python",
   "nbconvert_exporter": "python",
   "pygments_lexer": "ipython3",
   "version": "3.10.4"
  },
  "orig_nbformat": 4
 },
 "nbformat": 4,
 "nbformat_minor": 2
}

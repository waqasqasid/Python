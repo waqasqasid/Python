{
 "cells": [
  {
   "cell_type": "markdown",
   "id": "a2ab6abb",
   "metadata": {},
   "source": [
    "# Numpy :\n",
    "- Numpy is scientific computing (package) librarry for python programming language.\n",
    "- Numpy is a powerfull python programming language librarry to solve numerical problems.\n",
    "- Num stand for numerical and py stand for python programming language.\n",
    "- Python Numpy librarry is especially used for numeric and mathematical calculation like linear algebra, fourier transtorm, and random number capailities using numpy array.\n",
    "- Numpy supports large data in the form of a multidimensional array (vector and matrix)\n",
    "\n",
    "- One Dimensional Numpy array(1D) : It means the collection of hemogenous data in a single row(vector).\n",
    "\n",
    "- Two Dimensional Numpy array(2D) : It means the collection of hemogenous data in lists of a list (matrix).\n",
    "\n",
    "- Three Dimensional Numpy array(3D) : It means the collection of hemogenous data in lists of lists of a list (tensor).\n"
   ]
  },
  {
   "cell_type": "code",
   "execution_count": 30,
   "id": "74d8a1f5",
   "metadata": {},
   "outputs": [
    {
     "name": "stdout",
     "output_type": "stream",
     "text": [
      "[1 2 3 4 5]\n"
     ]
    }
   ],
   "source": [
    "# first we have to import numpy librarry\n",
    "import numpy as np\n",
    "array1 = np.array([1,2,3,4,5])\n",
    "# second print and check it\n",
    "print(array1)"
   ]
  },
  {
   "cell_type": "code",
   "execution_count": 31,
   "id": "412e8cf3",
   "metadata": {},
   "outputs": [
    {
     "name": "stdout",
     "output_type": "stream",
     "text": [
      "1\n",
      "5\n",
      "(5,)\n",
      "int32\n"
     ]
    }
   ],
   "source": [
    "# check dimensional\n",
    "print(array1.ndim)\n",
    "\n",
    "# check size of demensional\n",
    "print(array1.size)\n",
    "\n",
    "# check shape of demensional\n",
    "print(array1.shape)\n",
    "\n",
    "# check data type\n",
    "print(array1.dtype)\n",
    "\n",
    "# change the elements of Array\n",
    "array1[1]=40\n"
   ]
  },
  {
   "cell_type": "code",
   "execution_count": 32,
   "id": "a6db9219",
   "metadata": {},
   "outputs": [
    {
     "name": "stdout",
     "output_type": "stream",
     "text": [
      "2\n",
      "int32\n",
      "6\n",
      "(2, 3)\n"
     ]
    }
   ],
   "source": [
    "# 2D Array\n",
    "array2 = np.array([[1,2,3],[6,7,8]])\n",
    "print(array2.ndim)\n",
    "\n",
    "# check data type of array\n",
    "print(array2.dtype)\n",
    "\n",
    "# check size of 2 dimensional\n",
    "print(array2.size)\n",
    "\n",
    "# check shape of 2 dimensional\n",
    "print(array2.shape)"
   ]
  },
  {
   "cell_type": "code",
   "execution_count": 33,
   "id": "b056579b",
   "metadata": {},
   "outputs": [
    {
     "name": "stdout",
     "output_type": "stream",
     "text": [
      "3\n",
      "9\n",
      "(1, 3, 3)\n"
     ]
    },
    {
     "data": {
      "text/plain": [
       "numpy.ndarray"
      ]
     },
     "execution_count": 33,
     "metadata": {},
     "output_type": "execute_result"
    }
   ],
   "source": [
    "# 3D Array\n",
    "array3 = np.array([[[1,2,3],[5,6,7],[3,4,5]]])\n",
    "# check dimensional\n",
    "print(array3.ndim)\n",
    "\n",
    "# check size of 3D dimensional\n",
    "print(array3.size)\n",
    "\n",
    "# check shape of 3D dimensional\n",
    "print(array3.shape)\n",
    "\n",
    "# check type of arrray\n",
    "type(array3)"
   ]
  },
  {
   "cell_type": "code",
   "execution_count": 34,
   "id": "6dc2a978",
   "metadata": {},
   "outputs": [
    {
     "name": "stdout",
     "output_type": "stream",
     "text": [
      "[[ 1  2  3  4]\n",
      " [11 12 13 14]\n",
      " [21 22 23 24]]\n"
     ]
    },
    {
     "data": {
      "text/plain": [
       "array([[ 2,  3],\n",
       "       [12, 13]])"
      ]
     },
     "execution_count": 34,
     "metadata": {},
     "output_type": "execute_result"
    }
   ],
   "source": [
    "# Numpy slicing \n",
    "import numpy as np\n",
    "first_array = np.array([[1,2,3,4],[11,12,13,14],[21,22,23,24]])\n",
    "print(first_array)\n",
    "\n",
    "first_array[:2,1:3]"
   ]
  },
  {
   "cell_type": "markdown",
   "id": "6e89675f",
   "metadata": {},
   "source": [
    "# Function in Numpy\n",
    "\n",
    "- arange\n",
    "- linspace\n",
    "- reshape\n",
    "- ravel\n",
    "- flatten\n",
    "- transpose"
   ]
  },
  {
   "cell_type": "code",
   "execution_count": 35,
   "id": "a7381ad7",
   "metadata": {},
   "outputs": [
    {
     "name": "stdout",
     "output_type": "stream",
     "text": [
      "[ 1  2  3  4  5  6  7  8  9 10 11 12 13 14 15 16 17 18 19 20]\n",
      "[ 1  3  5  7  9 11 13 15 17 19]\n"
     ]
    }
   ],
   "source": [
    "# 1-Arange\n",
    "\n",
    "\n",
    "import numpy as np\n",
    "\n",
    "array_1 = np.arange(1,21)\n",
    "print(array_1)\n",
    "\n",
    "array_2 = np.arange(1,21,2)\n",
    "print(array_2)"
   ]
  },
  {
   "cell_type": "code",
   "execution_count": 36,
   "id": "445dc9c7",
   "metadata": {},
   "outputs": [
    {
     "name": "stdout",
     "output_type": "stream",
     "text": [
      "[ 1. 11. 21.]\n"
     ]
    }
   ],
   "source": [
    "# 2-Linspace\n",
    "\n",
    "linspace1 = np.linspace(1,21,3)\n",
    "print(linspace1)"
   ]
  },
  {
   "cell_type": "code",
   "execution_count": 37,
   "id": "cae12ef1",
   "metadata": {},
   "outputs": [
    {
     "name": "stdout",
     "output_type": "stream",
     "text": [
      "[[ 1  2  3  4  5  6  7  8  9 10]\n",
      " [11 12 13 14 15 16 17 18 19 20]]\n",
      "[[[ 1  2  3  4  5]\n",
      "  [ 6  7  8  9 10]\n",
      "  [11 12 13 14 15]\n",
      "  [16 17 18 19 20]]]\n"
     ]
    }
   ],
   "source": [
    "# 3-Reshape\n",
    "reshap_2D = array_1.reshape(2,10)\n",
    "print(reshap_2D)\n",
    "\n",
    "\n",
    "reshap_3D = array_1.reshape(1,4,5)\n",
    "print(reshap_3D)"
   ]
  },
  {
   "cell_type": "code",
   "execution_count": 38,
   "id": "04eac3aa",
   "metadata": {},
   "outputs": [
    {
     "name": "stdout",
     "output_type": "stream",
     "text": [
      "[ 1  2  3  4  5  6  7  8  9 10 11 12 13 14 15 16 17 18 19 20]\n",
      "[ 1  2  3  4  5  6  7  8  9 10 11 12 13 14 15 16 17 18 19 20]\n"
     ]
    }
   ],
   "source": [
    "# 4-Ravel and flatten \n",
    "# it's used for convert 2d into 1d \n",
    "\n",
    "ravel_1 = reshap_3D.ravel()\n",
    "print(ravel_1)\n",
    "\n",
    "ravel_2 = reshap_3D.flatten()\n",
    "print(ravel_2)\n"
   ]
  },
  {
   "cell_type": "code",
   "execution_count": 39,
   "id": "bcf1043e",
   "metadata": {},
   "outputs": [
    {
     "name": "stdout",
     "output_type": "stream",
     "text": [
      "[[2 3 4]\n",
      " [5 6 7]\n",
      " [7 8 9]]\n",
      "[[2 5 7]\n",
      " [3 6 8]\n",
      " [4 7 9]]\n"
     ]
    }
   ],
   "source": [
    "# 5-Transpose\n",
    "\n",
    "x = np.array([[2,3,4],[5,6,7],[7,8,9]])\n",
    "print(x)\n",
    "\n",
    "#transpose\n",
    "print(x.transpose())"
   ]
  }
 ],
 "metadata": {
  "interpreter": {
   "hash": "96a5b2c8615b6af4330dccc0a175f9e1be44a5aebebe076415aefa8805d772c0"
  },
  "kernelspec": {
   "display_name": "Python 3.9.7 ('base')",
   "language": "python",
   "name": "python3"
  },
  "language_info": {
   "codemirror_mode": {
    "name": "ipython",
    "version": 3
   },
   "file_extension": ".py",
   "mimetype": "text/x-python",
   "name": "python",
   "nbconvert_exporter": "python",
   "pygments_lexer": "ipython3",
   "version": "3.9.7"
  }
 },
 "nbformat": 4,
 "nbformat_minor": 5
}

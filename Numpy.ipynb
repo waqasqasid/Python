{
 "cells": [
  {
   "cell_type": "markdown",
   "id": "a2ab6abb",
   "metadata": {},
   "source": [
    "# Numpy :\n",
    "- Numpy is scientific computing (package) librarry for python programming language.\n",
    "- Numpy is a powerfull python programming language librarry to solve numerical problems.\n",
    "- Num stand for numerical and py stand for python programming language.\n",
    "- Python Numpy librarry is especially used for numeric and mathematical calculation like linear algebra, fourier transtorm, and random number capailities using numpy array.\n",
    "- Numpy supports large data in the form of a multidimensional array (vector and matrix)\n",
    "\n",
    "- One Dimensional Numpy array(1D) : It means the collection of hemogenous data in a single row(vector).\n",
    "\n",
    "- Two Dimensional Numpy array(2D) : It means the collection of hemogenous data in lists of a list (matrix).\n",
    "\n",
    "- Three Dimensional Numpy array(3D) : It means the collection of hemogenous data in lists of lists of a list (tensor).\n"
   ]
  }
 ],
 "metadata": {
  "language_info": {
   "name": "python"
  }
 },
 "nbformat": 4,
 "nbformat_minor": 5
}

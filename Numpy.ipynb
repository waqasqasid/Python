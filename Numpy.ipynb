{
 "cells": [
  {
   "cell_type": "markdown",
   "id": "a2ab6abb",
   "metadata": {},
   "source": [
    "# Numpy :\n",
    "- Numpy is scientific computing (package) librarry for python programming language.\n",
    "- Numpy is a powerfull python programming language librarry to solve numerical problems.\n",
    "- Num stand for numerical and py stand for python programming language.\n",
    "- Python Numpy librarry is especially used for numeric and mathematical calculation like linear algebra, fourier transtorm, and random number capailities using numpy array.\n",
    "- Numpy supports large data in the form of a multidimensional array (vector and matrix)\n",
    "\n",
    "- One Dimensional Numpy array(1D) : It means the collection of hemogenous data in a single row(vector).\n",
    "\n",
    "- Two Dimensional Numpy array(2D) : It means the collection of hemogenous data in lists of a list (matrix).\n",
    "\n",
    "- Three Dimensional Numpy array(3D) : It means the collection of hemogenous data in lists of lists of a list (tensor).\n"
   ]
  },
  {
   "cell_type": "code",
   "execution_count": 14,
   "id": "74d8a1f5",
   "metadata": {},
   "outputs": [
    {
     "name": "stdout",
     "output_type": "stream",
     "text": [
      "[1 2 3 4 5]\n"
     ]
    }
   ],
   "source": [
    "# first we have to import numpy librarry\n",
    "import numpy as np\n",
    "array1 = np.array([1,2,3,4,5])\n",
    "# second print and check it\n",
    "print(array1)"
   ]
  },
  {
   "cell_type": "code",
   "execution_count": 15,
   "id": "412e8cf3",
   "metadata": {},
   "outputs": [
    {
     "name": "stdout",
     "output_type": "stream",
     "text": [
      "1\n",
      "5\n",
      "(5,)\n",
      "int32\n"
     ]
    }
   ],
   "source": [
    "# check dimensional\n",
    "print(array1.ndim)\n",
    "\n",
    "# check size of demensional\n",
    "print(array1.size)\n",
    "\n",
    "# check shape of demensional\n",
    "print(array1.shape)\n",
    "\n",
    "# check data type\n",
    "print(array1.dtype)\n",
    "\n",
    "# change the elements of Array\n",
    "array1[1]=40\n"
   ]
  },
  {
   "cell_type": "code",
   "execution_count": 20,
   "id": "a6db9219",
   "metadata": {},
   "outputs": [
    {
     "name": "stdout",
     "output_type": "stream",
     "text": [
      "2\n",
      "int32\n",
      "6\n",
      "(2, 3)\n"
     ]
    }
   ],
   "source": [
    "# 2D Array\n",
    "array2 = np.array([[1,2,3],[6,7,8]])\n",
    "print(array2.ndim)\n",
    "\n",
    "# check data type of array\n",
    "print(array2.dtype)\n",
    "\n",
    "# check size of 2 dimensional\n",
    "print(array2.size)\n",
    "\n",
    "# check shape of 2 dimensional\n",
    "print(array2.shape)"
   ]
  },
  {
   "cell_type": "code",
   "execution_count": 27,
   "id": "b056579b",
   "metadata": {},
   "outputs": [
    {
     "name": "stdout",
     "output_type": "stream",
     "text": [
      "3\n",
      "9\n",
      "(1, 3, 3)\n"
     ]
    },
    {
     "data": {
      "text/plain": [
       "numpy.ndarray"
      ]
     },
     "execution_count": 27,
     "metadata": {},
     "output_type": "execute_result"
    }
   ],
   "source": [
    "# 3D Array\n",
    "array3 = np.array([[[1,2,3],[5,6,7],[3,4,5]]])\n",
    "# check dimensional\n",
    "print(array3.ndim)\n",
    "\n",
    "# check size of 3D dimensional\n",
    "print(array3.size)\n",
    "\n",
    "# check shape of 3D dimensional\n",
    "print(array3.shape)\n",
    "\n",
    "# check type of arrray\n",
    "type(array3)"
   ]
  },
  {
   "cell_type": "code",
   "execution_count": 7,
   "id": "6dc2a978",
   "metadata": {},
   "outputs": [
    {
     "name": "stdout",
     "output_type": "stream",
     "text": [
      "[[ 1  2  3  4]\n",
      " [11 12 13 14]\n",
      " [21 22 23 24]]\n"
     ]
    },
    {
     "data": {
      "text/plain": [
       "array([[ 2,  3],\n",
       "       [12, 13]])"
      ]
     },
     "execution_count": 7,
     "metadata": {},
     "output_type": "execute_result"
    }
   ],
   "source": [
    "# Numpy slicing \n",
    "import numpy as np\n",
    "first_array = np.array([[1,2,3,4],[11,12,13,14],[21,22,23,24]])\n",
    "print(first_array)\n",
    "\n",
    "first_array[:2,1:3]"
   ]
  }
 ],
 "metadata": {
  "interpreter": {
   "hash": "96a5b2c8615b6af4330dccc0a175f9e1be44a5aebebe076415aefa8805d772c0"
  },
  "kernelspec": {
   "display_name": "Python 3.9.7 ('base')",
   "language": "python",
   "name": "python3"
  },
  "language_info": {
   "codemirror_mode": {
    "name": "ipython",
    "version": 3
   },
   "file_extension": ".py",
   "mimetype": "text/x-python",
   "name": "python",
   "nbconvert_exporter": "python",
   "pygments_lexer": "ipython3",
   "version": "3.9.7"
  }
 },
 "nbformat": 4,
 "nbformat_minor": 5
}
